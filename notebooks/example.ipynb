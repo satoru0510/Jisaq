{
 "cells": [
  {
   "cell_type": "markdown",
   "id": "0ef4ee74-a92d-4b56-98e4-c82d3dcfba6d",
   "metadata": {},
   "source": [
    "Jisaqで使用しているパッケージ\n",
    "- `TensorKit`\n",
    "- `BenchmarkTools`\n",
    "- `KrylovKit`\n",
    "\n",
    "加えて、このnotebookで使用しているパッケージ\n",
    "- `Plots`\n",
    "- `LaTeXStrings`"
   ]
  },
  {
   "cell_type": "code",
   "execution_count": null,
   "id": "2f5f501f-189b-4be5-85ac-fc395f808014",
   "metadata": {},
   "outputs": [],
   "source": [
    "include(\"Jisaq.jl\")"
   ]
  },
  {
   "cell_type": "code",
   "execution_count": null,
   "id": "b4fae1e3-9c1a-45de-bd2e-78d2ee124c89",
   "metadata": {},
   "outputs": [],
   "source": [
    "using .Jisaq, Plots, LaTeXStrings"
   ]
  },
  {
   "cell_type": "code",
   "execution_count": null,
   "id": "aeccb2a3-8e21-47df-881f-1ee3727eba50",
   "metadata": {},
   "outputs": [],
   "source": [
    "nq = 10\n",
    "dt = 0.1\n",
    "each_Rx = Circuit([Rx(i, -dt) for i in 1:nq])\n",
    "each_Rzz = Circuit([Rzz(i, i+1, -dt) for i in 1:nq-1])\n",
    "step = Circuit([each_Rx, each_Rzz])\n",
    "draw(step, :unicode)"
   ]
  },
  {
   "cell_type": "code",
   "execution_count": null,
   "id": "854ea175-8f34-4584-9aca-6f5a9e763233",
   "metadata": {},
   "outputs": [],
   "source": [
    "sv = Statevector(nq)\n",
    "bond = 4\n",
    "mps = OpenMPS(nq, bond)\n",
    "n = 50\n",
    "obs = Z(1)\n",
    "expect_sv = Vector{Float64}(undef, n+1)\n",
    "expect_sv[1] = real(expect(sv, obs))\n",
    "expect_mps = Vector{Float64}(undef, n+1)\n",
    "expect_mps[1] = real(expect(mps, obs))\n",
    "time = Vector{Float64}(undef, n+1)\n",
    "time[1] = 0.0\n",
    "\n",
    "for i in 2:n+1\n",
    "    apply!(sv, step)\n",
    "    apply!(mps, step)\n",
    "    time[i] = dt * (i - 1)\n",
    "    expect_sv[i] = real(expect(sv, obs))\n",
    "    expect_mps[i] = real(expect(mps, obs))\n",
    "end"
   ]
  },
  {
   "cell_type": "code",
   "execution_count": null,
   "id": "ee756fbc-edda-4e53-9227-a2ccdc54fabb",
   "metadata": {},
   "outputs": [],
   "source": [
    "plot(;xlabel=L\"t\", ylabel=L\"\\langle Z_1 \\rangle\")\n",
    "plot!(time, expect_sv; label=\"statevector simulator\")\n",
    "plot!(time, expect_mps; label=\"mps simulator (bond=$bond)\")"
   ]
  },
  {
   "cell_type": "code",
   "execution_count": null,
   "id": "f0e2b329-bf87-4338-9215-99dd631bce89",
   "metadata": {},
   "outputs": [],
   "source": []
  }
 ],
 "metadata": {
  "kernelspec": {
   "display_name": "Julia (6 threads) 1.10.9",
   "language": "julia",
   "name": "julia-6-threads-1.10"
  },
  "language_info": {
   "file_extension": ".jl",
   "mimetype": "application/julia",
   "name": "julia",
   "version": "1.10.9"
  }
 },
 "nbformat": 4,
 "nbformat_minor": 5
}
